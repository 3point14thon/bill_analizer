{
 "cells": [
  {
   "cell_type": "code",
   "execution_count": 4,
   "metadata": {},
   "outputs": [],
   "source": [
    "import numpy as np\n",
    "import pandas as pd\n",
    "import nltk\n",
    "import spacy"
   ]
  },
  {
   "cell_type": "code",
   "execution_count": 27,
   "metadata": {},
   "outputs": [
    {
     "name": "stderr",
     "output_type": "stream",
     "text": [
      "[nltk_data] Downloading package punkt to /home/chris/nltk_data...\n",
      "[nltk_data]   Package punkt is already up-to-date!\n"
     ]
    },
    {
     "data": {
      "text/plain": [
       "True"
      ]
     },
     "execution_count": 27,
     "metadata": {},
     "output_type": "execute_result"
    }
   ],
   "source": [
    "nltk.download('punkt')"
   ]
  },
  {
   "cell_type": "code",
   "execution_count": 28,
   "metadata": {},
   "outputs": [],
   "source": [
    "raw_bill_df = pd.read_csv('../data/test.csv', sep='|').drop(['Unnamed: 0', 'dublinCore'], axis=1)"
   ]
  },
  {
   "cell_type": "code",
   "execution_count": 6,
   "metadata": {},
   "outputs": [
    {
     "data": {
      "text/html": [
       "<div>\n",
       "<style scoped>\n",
       "    .dataframe tbody tr th:only-of-type {\n",
       "        vertical-align: middle;\n",
       "    }\n",
       "\n",
       "    .dataframe tbody tr th {\n",
       "        vertical-align: top;\n",
       "    }\n",
       "\n",
       "    .dataframe thead th {\n",
       "        text-align: right;\n",
       "    }\n",
       "</style>\n",
       "<table border=\"1\" class=\"dataframe\">\n",
       "  <thead>\n",
       "    <tr style=\"text-align: right;\">\n",
       "      <th></th>\n",
       "      <th>distribution-code</th>\n",
       "      <th>congress</th>\n",
       "      <th>session</th>\n",
       "      <th>legis-num</th>\n",
       "      <th>current-chamber</th>\n",
       "      <th>legis-type</th>\n",
       "      <th>official-title</th>\n",
       "      <th>body</th>\n",
       "      <th>action</th>\n",
       "      <th>enrolled-dateline</th>\n",
       "      <th>calendar</th>\n",
       "      <th>associated-doc</th>\n",
       "      <th>preamble</th>\n",
       "    </tr>\n",
       "  </thead>\n",
       "  <tbody>\n",
       "    <tr>\n",
       "      <th>0</th>\n",
       "      <td>I</td>\n",
       "      <td>116th CONGRESS</td>\n",
       "      <td>1st Session</td>\n",
       "      <td>H. R. 5443</td>\n",
       "      <td>IN THE HOUSE OF REPRESENTATIVES</td>\n",
       "      <td>A BILL</td>\n",
       "      <td>To amend title XIX of the Social Security Act ...</td>\n",
       "      <td>1. Short title This Act may be cited as the  ...</td>\n",
       "      <td>N//A</td>\n",
       "      <td>N//A</td>\n",
       "      <td>N//A</td>\n",
       "      <td>N//A</td>\n",
       "      <td>N//A</td>\n",
       "    </tr>\n",
       "    <tr>\n",
       "      <th>1</th>\n",
       "      <td>I</td>\n",
       "      <td>116th CONGRESS</td>\n",
       "      <td>1st Session</td>\n",
       "      <td>H. R. 5466</td>\n",
       "      <td>IN THE HOUSE OF REPRESENTATIVES</td>\n",
       "      <td>A BILL</td>\n",
       "      <td>To provide relief for victims of hate crimes, ...</td>\n",
       "      <td>1. Short title This Act may be cited as the  ...</td>\n",
       "      <td>N//A</td>\n",
       "      <td>N//A</td>\n",
       "      <td>N//A</td>\n",
       "      <td>N//A</td>\n",
       "      <td>N//A</td>\n",
       "    </tr>\n",
       "    <tr>\n",
       "      <th>2</th>\n",
       "      <td>I</td>\n",
       "      <td>116th CONGRESS</td>\n",
       "      <td>1st Session</td>\n",
       "      <td>H. R. 5428</td>\n",
       "      <td>IN THE HOUSE OF REPRESENTATIVES</td>\n",
       "      <td>A BILL</td>\n",
       "      <td>To amend the Energy Independence and Security ...</td>\n",
       "      <td>1. Short title; table of contents (a) Short t...</td>\n",
       "      <td>N//A</td>\n",
       "      <td>N//A</td>\n",
       "      <td>N//A</td>\n",
       "      <td>N//A</td>\n",
       "      <td>N//A</td>\n",
       "    </tr>\n",
       "    <tr>\n",
       "      <th>3</th>\n",
       "      <td>I</td>\n",
       "      <td>116th CONGRESS</td>\n",
       "      <td>1st Session</td>\n",
       "      <td>H. R. 5437</td>\n",
       "      <td>IN THE HOUSE OF REPRESENTATIVES</td>\n",
       "      <td>A BILL</td>\n",
       "      <td>To provide for certain actions by the Internat...</td>\n",
       "      <td>1. Short title This Act may be cited as the  ...</td>\n",
       "      <td>N//A</td>\n",
       "      <td>N//A</td>\n",
       "      <td>N//A</td>\n",
       "      <td>N//A</td>\n",
       "      <td>N//A</td>\n",
       "    </tr>\n",
       "    <tr>\n",
       "      <th>4</th>\n",
       "      <td>I</td>\n",
       "      <td>116th CONGRESS</td>\n",
       "      <td>1st Session</td>\n",
       "      <td>H. R. 5465</td>\n",
       "      <td>IN THE HOUSE OF REPRESENTATIVES</td>\n",
       "      <td>A BILL</td>\n",
       "      <td>To provide technical and financial support for...</td>\n",
       "      <td>1. Assistance for certain routes (a) In gener...</td>\n",
       "      <td>N//A</td>\n",
       "      <td>N//A</td>\n",
       "      <td>N//A</td>\n",
       "      <td>N//A</td>\n",
       "      <td>N//A</td>\n",
       "    </tr>\n",
       "  </tbody>\n",
       "</table>\n",
       "</div>"
      ],
      "text/plain": [
       "  distribution-code        congress      session   legis-num  \\\n",
       "0                 I  116th CONGRESS  1st Session  H. R. 5443   \n",
       "1                 I  116th CONGRESS  1st Session  H. R. 5466   \n",
       "2                 I  116th CONGRESS  1st Session  H. R. 5428   \n",
       "3                 I  116th CONGRESS  1st Session  H. R. 5437   \n",
       "4                 I  116th CONGRESS  1st Session  H. R. 5465   \n",
       "\n",
       "                   current-chamber legis-type  \\\n",
       "0  IN THE HOUSE OF REPRESENTATIVES     A BILL   \n",
       "1  IN THE HOUSE OF REPRESENTATIVES     A BILL   \n",
       "2  IN THE HOUSE OF REPRESENTATIVES     A BILL   \n",
       "3  IN THE HOUSE OF REPRESENTATIVES     A BILL   \n",
       "4  IN THE HOUSE OF REPRESENTATIVES     A BILL   \n",
       "\n",
       "                                      official-title  \\\n",
       "0  To amend title XIX of the Social Security Act ...   \n",
       "1  To provide relief for victims of hate crimes, ...   \n",
       "2  To amend the Energy Independence and Security ...   \n",
       "3  To provide for certain actions by the Internat...   \n",
       "4  To provide technical and financial support for...   \n",
       "\n",
       "                                                body action enrolled-dateline  \\\n",
       "0   1. Short title This Act may be cited as the  ...   N//A              N//A   \n",
       "1   1. Short title This Act may be cited as the  ...   N//A              N//A   \n",
       "2   1. Short title; table of contents (a) Short t...   N//A              N//A   \n",
       "3   1. Short title This Act may be cited as the  ...   N//A              N//A   \n",
       "4   1. Assistance for certain routes (a) In gener...   N//A              N//A   \n",
       "\n",
       "  calendar associated-doc preamble  \n",
       "0     N//A           N//A     N//A  \n",
       "1     N//A           N//A     N//A  \n",
       "2     N//A           N//A     N//A  \n",
       "3     N//A           N//A     N//A  \n",
       "4     N//A           N//A     N//A  "
      ]
     },
     "execution_count": 6,
     "metadata": {},
     "output_type": "execute_result"
    }
   ],
   "source": [
    "raw_bill_df.head()"
   ]
  },
  {
   "cell_type": "code",
   "execution_count": 19,
   "metadata": {},
   "outputs": [
    {
     "data": {
      "text/plain": [
       "'To provide technical and financial support for the completion of the Interstate 11 environmental impact statement, and for other purposes.'"
      ]
     },
     "execution_count": 19,
     "metadata": {},
     "output_type": "execute_result"
    }
   ],
   "source": [
    "raw_bill_df['official-title'][4]"
   ]
  },
  {
   "cell_type": "markdown",
   "metadata": {},
   "source": [
    "spacey style sent tokenizer + vector gatherer"
   ]
  },
  {
   "cell_type": "code",
   "execution_count": 29,
   "metadata": {},
   "outputs": [],
   "source": [
    "base_size = 3\n",
    "bill_num = 17"
   ]
  },
  {
   "cell_type": "code",
   "execution_count": 30,
   "metadata": {},
   "outputs": [],
   "source": [
    "nlp = spacy.load('en_vectors_web_lg')\n",
    "nlp.add_pipe(nlp.create_pipe('sentencizer'))\n",
    "doc = nlp(raw_bill_df['body'][bill_num].replace('\\t', '').replace('\\n', '.'))\n",
    "sents = list(doc.sents)"
   ]
  },
  {
   "cell_type": "code",
   "execution_count": 31,
   "metadata": {},
   "outputs": [],
   "source": [
    "base = nlp(raw_bill_df['official-title'][bill_num]) #doc[:sents[base_size].end]\n",
    "similarity = [base.similarity(sent) for sent in sents]"
   ]
  },
  {
   "cell_type": "code",
   "execution_count": 81,
   "metadata": {},
   "outputs": [
    {
     "data": {
      "text/plain": [
       "(0.44437608321268796, 0.9832865615175885)"
      ]
     },
     "execution_count": 81,
     "metadata": {},
     "output_type": "execute_result"
    }
   ],
   "source": [
    "min(similarity), max(similarity)"
   ]
  },
  {
   "cell_type": "code",
   "execution_count": 32,
   "metadata": {},
   "outputs": [
    {
     "data": {
      "text/plain": [
       "[ 1.,\n",
       " 399V–7.,\n",
       " 2) The term  Valley fever .,\n",
       " 3.,\n",
       " bb) The Department of Defense. (,\n",
       " cc) The Department of Energy. (,\n",
       " 6.]"
      ]
     },
     "execution_count": 32,
     "metadata": {},
     "output_type": "execute_result"
    }
   ],
   "source": [
    "[sent for sent in sents if len(sent) < 10]"
   ]
  },
  {
   "cell_type": "code",
   "execution_count": 33,
   "metadata": {},
   "outputs": [],
   "source": [
    "def c_scale(num_val, c_max = 255):\n",
    "    c_value = num_val*c_max\n",
    "    return (c_max - c_value, c_value, 0, 0.2)"
   ]
  },
  {
   "cell_type": "code",
   "execution_count": 32,
   "metadata": {},
   "outputs": [
    {
     "data": {
      "text/plain": [
       "'<span style=\"background-color:rgba(113.31590121923543, 141.68409878076457, 0, 0.2);\"> 1.</span><span style=\"background-color:rgba(212.07309737954117, 42.92690262045883, 0, 0.2);\">Short title This Act may be cited as the  End Valley Fever Now Act 2.</span><span style=\"background-color:rgba(236.3552849689958, 18.64471503100421, 0, 0.2);\">Grants to develop programs to increase health care providers’ awareness of Valley fever Part P of title III of the Public Health Service Act ( 42 U.S.C. 280g .</span><span style=\"background-color:rgba(126.91137196310692, 128.08862803689308, 0, 0.2);\">399V–7.</span><span style=\"background-color:rgba(250.73807318698508, 4.261926813014924, 0, 0.2);\">Grants to develop programs to increase health care providers’ awareness of Valley fever (a) In general The Secretary, acting through the Administrator of the Health Resources and Services Administration and in consultation with the Director of the Centers for Disease Control and Prevention, shall make awards of grants or cooperative agreements to eligible entities to establish and carry out programs— (1) to increase health care providers’ awareness of Valley fever; and (2) to educate and train health care providers on the diagnosis and treatment of Valley fever. (</span><span style=\"background-color:rgba(236.33736517492358, 18.662634825076424, 0, 0.2);\">b) Use of funds An eligible entity selected to receive a grant or contract under this section shall use amounts awarded under such a grant or contract to provide innovative supportive activities (which may include activities that do not rely on the use of broadband services) to enhance education through distance learning, continuing educational activities, collaborative conferences, and electronic and telelearning activities. (</span><span style=\"background-color:rgba(212.76947078299543, 42.23052921700457, 0, 0.2);\">c) Authorization of appropriations There are authorized to be appropriated to carry out this section $1,000,000 for the period of fiscal years 2021 through 2023, to remain available until expended. (</span><span style=\"background-color:rgba(232.2627160524233, 22.737283947576714, 0, 0.2);\">d) Condition A recipient of a grant under this section shall, as a condition on receipt of the grant, agree to develop curricula for the purposes specified in subsection (a) in coordination with local providers at hospitals and clinics. (</span><span style=\"background-color:rgba(220.94062940504406, 34.059370594955936, 0, 0.2);\">e) Definitions In this section: (1) The term  eligible entity (A) a State department of health (or similar State authority); (B) an institution of higher education (as defined in section 101 of the Higher Education Act of 1965 ( 20 U.S.C. 1001 (C) an entity operating a graduate medical residency training program under section 340E or under section 340H; or (D) a teaching hospital (as defined in section 415.152 of title 42, Code of Federal Regulations) that has physicians and other medical providers with specialized knowledge in diagnosing and treating Valley fever. (</span><span style=\"background-color:rgba(184.69258075864914, 70.30741924135086, 0, 0.2);\">2) The term  Valley fever .</span><span style=\"background-color:rgba(117.80516847552978, 137.1948315244702, 0, 0.2);\">3.</span><span style=\"background-color:rgba(242.83502419364342, 12.16497580635658, 0, 0.2);\">Study comparing different case definitions used to identify valley fever (a) In general The Secretary of Health and Human Services, acting through the Director of the Centers for Disease Control and Prevention shall conduct a study comparing different case definitions used to identify valley fever.</span><span style=\"background-color:rgba(236.97405607778816, 18.025943922211837, 0, 0.2);\">Such study shall include the efficacy of the methods being used to establish such case definitions and the cost effectiveness of such methods, including using the case definition for valley fever established by the Council of State and Territorial Epidemiologist. (</span><span style=\"background-color:rgba(202.75930464453182, 52.240695355468176, 0, 0.2);\">b) Valley fever defined In this Act, the term  Valley fever 4.</span><span style=\"background-color:rgba(221.8847333991839, 33.11526660081611, 0, 0.2);\">Allowing States to provide coverage under the Medicaid program for items and services furnished in connection with qualifying Valley fever clinical trials (a) In general Section 1905(a) of the Social Security Act ( 42 U.S.C. 1396d(a) (1) in paragraph (29), by striking  and (2) by redesignating paragraph (30) as paragraph (31); and (3) by inserting after paragraph (29) the following new paragraph:   (30) items and services furnished in connection with participation in a qualifying Valley fever clinical trial (as defined in section 2709A(b)(4) of the Public Health Service Act), including travel and incidental expenses, regardless of whether such items and services are furnished by a participating provider under the Medicaid program (other than a provider excluded from participation in such program under section 1128) or whether such items and services are furnished in another State; and . (</span><span style=\"background-color:rgba(216.97256598977563, 38.02743401022437, 0, 0.2);\">b) Reduction in FMAP for States that do not provide coverage Section 1905 of the Social Security Act ( 42 U.S.C. 1396d (1) in subsection (b), by striking  and (ff) (ff), and (gg) (2) by adding at the end the following new subsection:   (gg) Reduction in FMAP for States that do not provide coverage for certain items and services With respect to a calendar quarter beginning on or after January 1, 2021, the Federal medical assistance percentage otherwise determined under subsection (b) for a State that does not provide coverage for items and services described in subsection (a)(30) that are furnished during such quarter shall be reduced by 5 percentage points. . (</span><span style=\"background-color:rgba(205.81383409108588, 49.18616590891412, 0, 0.2);\">c) Ensuring access for Medicaid expansion population Section 1937(b)(5) of such Act is amended by inserting before the period at the end the following:  , and beginning January 1, 2021, coverage of items and services described in section 1905(a)(30) (d) Prohibition on imposition of costsharing requirements Title XIX of the Social Security Act ( 42 U.S.C. 1396 (1) in section 1916(a)(2)— (A) in subparagraph (D), by striking  or (B) in subparagraph (E), by striking  ; and , or (C) by adding at the end the following new subparagraph: .</span><span style=\"background-color:rgba(200.78789533143708, 54.212104668562915, 0, 0.2);\"> (F) items and services described in section 1905(a)(30); and ; and (2) in section 1916A(b)(3)(B), by adding at the end the following new clause: .</span><span style=\"background-color:rgba(170.0083079195147, 84.99169208048531, 0, 0.2);\"> (xi) Items and services described in section 1905(a)(30). . (</span><span style=\"background-color:rgba(209.0169115319035, 45.9830884680965, 0, 0.2);\">e) Continuous coverage for individuals who lose Medicaid eligibility based on income Section 1902(e) of the Social Security Act ( 42 U.S.C. 1396a(e) . (</span><span style=\"background-color:rgba(218.6328981420939, 36.36710185790611, 0, 0.2);\">16) Continuous coverage for items and services furnished in connection with qualifying Valley fever.</span><span style=\"background-color:rgba(238.69963347686937, 16.300366523130634, 0, 0.2);\">clinical trials In the case of an individual who is eligible for medical assistance under the State plan (or a waiver of such plan) based on the application of modified adjusted gross income under paragraph (14)(A), who while so eligible is furnished items and services described in section 1905(a)(30) in connection with participation in a qualifying Valley fever clinical trial (as defined in section 2709A(b)(4) of the Public Health Service Act), and who while so furnished such items and services loses eligibility for such medical assistance due to a change in income of the family of which such individual is a member, such individual shall be deemed to continue to be an individual eligible for such medical assistance, without regard to such change in income, only with respect to such items and services through the end of the month in which such qualifying Valley fever clinical trial ends. . (</span><span style=\"background-color:rgba(215.29117693894966, 39.70882306105034, 0, 0.2);\">f) Effective date (1) In general The amendments made by this section shall apply with respect to items and services furnished, and eligibility determinations made, on or after January 1, 2021. (</span><span style=\"background-color:rgba(210.3139800393618, 44.68601996063819, 0, 0.2);\">2) Exception for State legislation In the case of a State plan under title XIX of the Social Security Act ( 42 U.S.C. 1396 5.</span><span style=\"background-color:rgba(227.01030716413925, 27.98969283586075, 0, 0.2);\">Requirement for group health plans and health insurance issuers to provide coverage for items and.</span><span style=\"background-color:rgba(210.93740085429715, 44.06259914570285, 0, 0.2);\">services furnished in connection with qualifying Valley fever clinical.</span><span style=\"background-color:rgba(198.94673008123985, 56.05326991876015, 0, 0.2);\">trials (a) In general Subpart I of part A of title XXVII of the Public Health Service Act ( 42 U.S.C. 300gg (1) by redesignating the second section 2709 as section 2710; and (2) by inserting after the first section 2709 the following new section: .</span><span style=\"background-color:rgba(229.4875746189989, 25.512425381001094, 0, 0.2);\">2709A. Coverage for individuals participating in qualifying Valley fever clinical trials (a) In general Notwithstanding section 2709, a group health plan or health insurance issuer offering group or individual health insurance coverage shall, with respect to an enrollee of such plan or coverage, respectively, provide coverage for any item or service furnished to such enrollee in connection with such enrollee’s participation in a qualifying Valley fever clinical trial, including travel and incidental expenses— (1) without regard to whether such item or service is furnished by a participating provider or participating facility with respect to such item or service; and (2) in a manner so that, if such item or service is furnished to such enrollee by a nonparticipating provider or nonparticipating facility, the cost-sharing requirement (expressed as a copayment amount or coinsurance rate) is not greater than the requirement that would apply if such item or service were furnished by a participating provider or participating facility. (</span><span style=\"background-color:rgba(210.09220298951254, 44.90779701048746, 0, 0.2);\">b) Definitions In this section: (1) Nonparticipating facility; participating facility (A) Nonparticipating facility The term  nonparticipating facility (B) Participating facility The term  participating facility (2) Nonparticipating provider; participating provider (A) Nonparticipating provider The term  nonparticipating provider (B) Participating provider The term  participating provider (3) Qualifying Valley fever clinical trial (A) In general The term  qualifying Valley fever clinical trial (i) The study or investigation is approved or funded (which may include funding through in-kind contributions) by one or more of the following: (I) The National Institutes of Health. (</span><span style=\"background-color:rgba(224.67228361561087, 30.327716384389134, 0, 0.2);\">II) The Centers for Disease Control and Prevention. (</span><span style=\"background-color:rgba(222.12959059909144, 32.87040940090856, 0, 0.2);\">III) The Agency for Healthcare Research and Quality. (</span><span style=\"background-color:rgba(196.4871708764582, 58.51282912354179, 0, 0.2);\">IV) The Centers for Medicare & Medicaid Services. (</span><span style=\"background-color:rgba(219.41131501869586, 35.58868498130414, 0, 0.2);\">V) A cooperative group or center of any of the entities described in subclauses (I) through (IV) or the Department of Defense or the Department of Veterans Affairs. (</span><span style=\"background-color:rgba(228.7674234333402, 26.232576566659787, 0, 0.2);\">VI) A qualified non-governmental research entity identified in the guidelines issued by the National Institutes of Health for center support grants. (</span><span style=\"background-color:rgba(205.06313582706267, 49.936864172937334, 0, 0.2);\">VII) Any of the following if the conditions described in subparagraph (B) are met: (aa) The Department of Veterans Affairs. (</span><span style=\"background-color:rgba(187.54322176265555, 67.45677823734445, 0, 0.2);\">bb) The Department of Defense. (</span><span style=\"background-color:rgba(192.55571064505386, 62.444289354946136, 0, 0.2);\">cc) The Department of Energy. (</span><span style=\"background-color:rgba(215.80292470090868, 39.197075299091324, 0, 0.2);\">ii) The clinical trial is conducted under an investigational new drug application reviewed by the Food and Drug Administration. (</span><span style=\"background-color:rgba(212.41077018586967, 42.589229814130334, 0, 0.2);\">iii) The clinical trial is a drug trial that is exempt from having such an investigational new drug application. (</span><span style=\"background-color:rgba(233.03694172958063, 21.963058270419367, 0, 0.2);\">B) Conditions For purposes of subparagraph (A)(i)(VII), the conditions described in this subparagraph, with respect to a clinical trial approved or funded by an entity described in such subparagraph (A)(i)(VII), are that the clinical trial has been reviewed and approved through a system of peer review that the Secretary determines— (i) to be comparable to the system of peer review of studies and investigations used by the National Institutes of Health; and (ii) assures unbiased review of the highest scientific standards by qualified individuals with no interest in the outcome of the review. . (</span><span style=\"background-color:rgba(212.64338409478523, 42.35661590521477, 0, 0.2);\">b) Effective date The amendments made by this section shall apply with respect to plan years beginning on or after January 1, 2021.</span><span style=\"background-color:rgba(113.96510755464354, 141.03489244535646, 0, 0.2);\">6.</span><span style=\"background-color:rgba(220.3415340795954, 34.65846592040461, 0, 0.2);\">Medicare coverage of items and services furnished in connection with qualifying Valley fever.</span><span style=\"background-color:rgba(189.58334306235827, 65.41665693764173, 0, 0.2);\">clinical trials (a) Coverage Section 1861(s)(2) of the Social Security Act ( 42 U.S.C. 1395x(s)(2) (1) in subparagraph (GG), by striking  and (2) in subparagraph (HH), by striking the period at the end and inserting  ; and (3) by adding at the end the following new subparagraph: .</span><span style=\"background-color:rgba(226.86170904581437, 28.138290954185635, 0, 0.2);\"> (II) items and services furnished in connection with participation in a qualifying Valley fever clinical trial (as defined in section 2709A(b)(4) of the Public Health Service Act), including travel and incidental expenses; . (</span><span style=\"background-color:rgba(211.29734833525112, 43.702651664748885, 0, 0.2);\">b) Payment Section 1833(a)(1) of the Social Security Act ( 42 U.S.C. 1395l(a)(1) (1) by striking  and (CC) (CC) (2) by inserting before the semicolon at the end the following:  , and (DD) with respect to items and services described in section 1861(s)(2)(II), the amount paid shall be 100 percent of the lesser of the actual charge for the services or the amount determined under the payment basis determined under section 1848</span>'"
      ]
     },
     "execution_count": 32,
     "metadata": {},
     "output_type": "execute_result"
    }
   ],
   "source": [
    "color_doc = [f'<span style=\"background-color:rgba{c_scale(r)};\">' + str(sent) + '</span>' for sent, r in zip(sents, similarity)]\n",
    "''.join(color_doc)"
   ]
  },
  {
   "cell_type": "markdown",
   "metadata": {},
   "source": [
    "<span style=\"background-color:rgba(255.0, 0.0, 0, 0.2);\">the </span><span style=\"background-color:rgba(229.5, 25.5, 0, 0.2);\">the </span><span style=\"background-color:rgba(204.0, 51.0, 0, 0.2);\">the </span><span style=\"background-color:rgba(178.5, 76.50000000000001, 0, 0.2);\">the </span><span style=\"background-color:rgba(153.0, 102.0, 0, 0.2);\">the </span><span style=\"background-color:rgba(127.5, 127.5, 0, 0.2);\">the </span><span style=\"background-color:rgba(101.99999999999997, 153.00000000000003, 0, 0.2);\">the </span><span style=\"background-color:rgba(76.49999999999997, 178.50000000000003, 0, 0.2);\">the </span><span style=\"background-color:rgba(51.0, 204.0, 0, 0.2);\">the </span><span style=\"background-color:rgba(25.5, 229.5, 0, 0.2);\">the </span>"
   ]
  },
  {
   "cell_type": "code",
   "execution_count": 25,
   "metadata": {},
   "outputs": [
    {
     "data": {
      "text/plain": [
       "array([0. , 0.1, 0.2, 0.3, 0.4, 0.5, 0.6, 0.7, 0.8, 0.9])"
      ]
     },
     "execution_count": 25,
     "metadata": {},
     "output_type": "execute_result"
    }
   ],
   "source": [
    "vals"
   ]
  },
  {
   "cell_type": "code",
   "execution_count": null,
   "metadata": {},
   "outputs": [],
   "source": []
  },
  {
   "cell_type": "code",
   "execution_count": 15,
   "metadata": {},
   "outputs": [],
   "source": [
    "vals = np.arange(0,1, .1)\n",
    "txt = len(vals) * ['the ']"
   ]
  },
  {
   "cell_type": "code",
   "execution_count": 34,
   "metadata": {},
   "outputs": [
    {
     "data": {
      "text/plain": [
       "'<span style=\"background-color:rgba(255.0, 0.0, 0, 0.2);\">the </span><span style=\"background-color:rgba(229.5, 25.5, 0, 0.2);\">the </span><span style=\"background-color:rgba(204.0, 51.0, 0, 0.2);\">the </span><span style=\"background-color:rgba(178.5, 76.50000000000001, 0, 0.2);\">the </span><span style=\"background-color:rgba(153.0, 102.0, 0, 0.2);\">the </span><span style=\"background-color:rgba(127.5, 127.5, 0, 0.2);\">the </span><span style=\"background-color:rgba(101.99999999999997, 153.00000000000003, 0, 0.2);\">the </span><span style=\"background-color:rgba(76.49999999999997, 178.50000000000003, 0, 0.2);\">the </span><span style=\"background-color:rgba(51.0, 204.0, 0, 0.2);\">the </span><span style=\"background-color:rgba(25.5, 229.5, 0, 0.2);\">the </span>'"
      ]
     },
     "execution_count": 34,
     "metadata": {},
     "output_type": "execute_result"
    }
   ],
   "source": [
    "color_doc = [f'<span style=\"background-color:rgba{c_scale(vals)};\">' + str(txt) + '</span>' for txt, vals in zip(txt, vals)]\n",
    "''.join(color_doc)"
   ]
  },
  {
   "cell_type": "markdown",
   "metadata": {},
   "source": [
    "consider lemmatization or stemming, see if it makes sense though"
   ]
  }
 ],
 "metadata": {
  "kernelspec": {
   "display_name": "Python 3",
   "language": "python",
   "name": "python3"
  },
  "language_info": {
   "codemirror_mode": {
    "name": "ipython",
    "version": 3
   },
   "file_extension": ".py",
   "mimetype": "text/x-python",
   "name": "python",
   "nbconvert_exporter": "python",
   "pygments_lexer": "ipython3",
   "version": "3.7.5"
  }
 },
 "nbformat": 4,
 "nbformat_minor": 2
}
